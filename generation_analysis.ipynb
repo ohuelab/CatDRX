{
 "cells": [
  {
   "cell_type": "code",
   "execution_count": null,
   "metadata": {},
   "outputs": [],
   "source": [
    "import os\n",
    "import sys\n",
    "from rdkit import Chem\n",
    "import time\n",
    "import math\n",
    "from tqdm import tqdm\n",
    "import numpy as np\n",
    "from sklearn.linear_model import LinearRegression \n",
    "from sklearn import metrics\n",
    "import torch.optim as optim\n",
    "import torch\n",
    "from torch import nn\n",
    "import numpy as np\n",
    "import pandas as pd\n",
    "# %matplotlib inline\n",
    "import matplotlib.pyplot as plt\n",
    "import seaborn as sns\n",
    "import pickle\n",
    "from torch_geometric.loader import DataLoader\n",
    "from rdkit.Chem import AllChem\n",
    "from rdkit.Chem import RDConfig\n",
    "from rdkit.Chem import Descriptors\n",
    "from rdkit.Chem import rdDepictor\n",
    "sys.path.append(os.path.join(RDConfig.RDContribDir, \"SA_Score\"))\n",
    "import sascorer\n",
    "sns.set_theme(style=\"white\", palette=None)\n",
    "\n",
    "from rdkit import RDLogger\n",
    "RDLogger.DisableLog('rdApp.*')\n",
    "from rdkit.Chem.Draw import IPythonConsole\n",
    "# IPythonConsole.molSize = (200, 200)   # Change image size\n",
    "IPythonConsole.ipython_useSVG = True  # Change output to SVG\n",
    "\n",
    "from catcvae.utils import smiles_to_mol, mol_to_smiles\n",
    "from catcvae.dataset import getDatasetFromFile, getDatasetObject, getDatasetSplittingFinetune"
   ]
  },
  {
   "cell_type": "markdown",
   "metadata": {},
   "source": [
    "# display_molecule"
   ]
  },
  {
   "cell_type": "code",
   "execution_count": null,
   "metadata": {},
   "outputs": [],
   "source": [
    "def display_molecule(molecules, title=None, texts=None):\n",
    "    fig, axs = plt.subplots(math.ceil(len(molecules)/5), 5, figsize=(15, math.ceil(len(molecules)*0.75)), dpi=300)\n",
    "    fig.subplots_adjust(hspace=.5, wspace=.001)\n",
    "    axs = axs.ravel()\n",
    "    for i in range(math.ceil(len(molecules)/5)*5):\n",
    "        if i < len(molecules):\n",
    "            mol = molecules[i]\n",
    "            ax = axs[i]\n",
    "            ax.imshow(Chem.Draw.MolToImage(mol))\n",
    "            ax.axis('off')\n",
    "            if title:\n",
    "                ax.set_title(title[i])\n",
    "            if texts:\n",
    "                ax.text(100, 350, texts[i], fontsize=12)\n",
    "        else:\n",
    "            ax = axs[i]\n",
    "            ax.axis('off')"
   ]
  },
  {
   "cell_type": "markdown",
   "metadata": {},
   "source": [
    "# Read file"
   ]
  },
  {
   "cell_type": "code",
   "execution_count": null,
   "metadata": {},
   "outputs": [],
   "source": [
    "file = 'ps'\n",
    "seed = 42\n",
    "folder = 'output_0_42_20250428_203238_3809035'\n",
    "df_name = 'generated_mol_lat_20250429_004122'\n",
    "df_gen = pd.read_csv('dataset/'+file+'/'+folder+'/'+df_name+'.csv', header=None, names=['smiles', 'predicted'])\n",
    "print(\"df: \", len(df_gen))"
   ]
  },
  {
   "cell_type": "code",
   "execution_count": null,
   "metadata": {},
   "outputs": [],
   "source": [
    "# get dict of SMILES with avg and std of value\n",
    "def get_dict(df):\n",
    "    dict_mol = {}\n",
    "    for idx, row in df.iterrows():\n",
    "        smiles = row['smiles']\n",
    "        dict_mol.setdefault(smiles, []).append(row['predicted'])\n",
    "    return dict_mol\n",
    "\n",
    "dict_gen = get_dict(df_gen)\n",
    "\n",
    "print(\"dict_gen: \", len(dict_gen))"
   ]
  },
  {
   "cell_type": "code",
   "execution_count": null,
   "metadata": {},
   "outputs": [],
   "source": [
    "result_gen = list()\n",
    "\n",
    "for smiles, values in dict_gen.items():\n",
    "    result_gen.append({'smiles': smiles, 'avg': np.mean(values), 'std': np.std(values)})\n",
    "\n",
    "result_gen = pd.DataFrame(result_gen).sort_values(by='avg', ascending=True)\n",
    "result_gen = result_gen.reset_index(drop=True)\n",
    "\n",
    "result_gen"
   ]
  },
  {
   "cell_type": "code",
   "execution_count": null,
   "metadata": {},
   "outputs": [],
   "source": [
    "result_rand_sample = result_gen[:20]\n",
    "\n",
    "molecules = [smiles_to_mol(smiles, with_atom_index=False) for smiles in result_rand_sample['smiles']]\n",
    "# texts = [f'{row[\"avg\"]:.2f} ± {row[\"std\"]:.2f}' for idx, row in result_rand_sample.iterrows()]\n",
    "texts = [f'{row[\"avg\"]:.2f}' for idx, row in result_rand_sample.iterrows()]\n",
    "title = range(1, len(molecules)+1)\n",
    "display_molecule(molecules, title=None, texts=texts)"
   ]
  },
  {
   "cell_type": "markdown",
   "metadata": {},
   "source": [
    "# Yield"
   ]
  },
  {
   "cell_type": "code",
   "execution_count": null,
   "metadata": {},
   "outputs": [],
   "source": [
    "color_1 = '#1C3077' # blue\n",
    "color_2 = '#E97132' # orange\n",
    "color_3 = '#196B24' # green\n",
    "color_4 = '#0F9ED5' # sky blue\n",
    "color_5 = '#A02B93' # purple\n",
    "color_6 = '#CE1500' # red"
   ]
  },
  {
   "cell_type": "code",
   "execution_count": null,
   "metadata": {},
   "outputs": [],
   "source": [
    "# dataset\n",
    "df_dataset = pd.read_csv('dataset/'+file+'/datasets_dobj_split_0.csv')\n",
    "df_dataset_test = df_dataset[df_dataset['s']== 'test']\n",
    "df_dataset = df_dataset[df_dataset['s']!= 'test']\n",
    "\n",
    "print(\"dataset: \", len(df_dataset))\n",
    "print(\"dataset_test: \", len(df_dataset_test))"
   ]
  },
  {
   "cell_type": "code",
   "execution_count": null,
   "metadata": {},
   "outputs": [],
   "source": [
    "# display test molecules\n",
    "molecules = [smiles_to_mol(smiles, with_atom_index=False) for smiles in df_dataset_test['smiles_catalyst'][:10]]\n",
    "texts = [f'{row[\"y\"]:.2f}' for idx, row in df_dataset_test[:10].iterrows()]\n",
    "display_molecule(molecules, title=None, texts=texts)\n"
   ]
  },
  {
   "cell_type": "code",
   "execution_count": null,
   "metadata": {},
   "outputs": [],
   "source": [
    "# plot distribution\n",
    "plt.figure(figsize=(8, 5), dpi=300)\n",
    "sns.histplot(list(df_dataset['y']), bins=range(0, 101, 5), color=color_1, stat='percent')\n",
    "sns.histplot(list(result_gen['avg']), bins=range(0, 101, 5), color=color_2, stat='percent')\n",
    "plt.xlabel('Dataset and predicted target')\n",
    "plt.ylabel('Percentage of molecules (%)')\n",
    "plt.title('Dataset and Predicted Target Distribution')\n",
    "plt.legend(['Dataset catalyst', 'Generated catalyst'])\n",
    "sns.despine()\n",
    "plt.show()"
   ]
  },
  {
   "cell_type": "markdown",
   "metadata": {},
   "source": [
    "# SAScore"
   ]
  },
  {
   "cell_type": "code",
   "execution_count": null,
   "metadata": {},
   "outputs": [],
   "source": [
    "sascore = list()\n",
    "for i, row in result_gen.iterrows():\n",
    "    try:\n",
    "        mol = Chem.MolFromSmiles(row['smiles'])\n",
    "        if mol is None:\n",
    "            mol = Chem.MolFromSmiles(row['smiles'], sanitize=False)\n",
    "            mol.UpdatePropertyCache(strict=False)\n",
    "        sascore.append(sascorer.calculateScore(mol))\n",
    "    except Exception as e:\n",
    "        print(e)\n",
    "        sascore.append(np.nan)\n",
    "\n",
    "result_gen['sascore'] = sascore\n",
    "result_gen"
   ]
  },
  {
   "cell_type": "code",
   "execution_count": null,
   "metadata": {},
   "outputs": [],
   "source": [
    "# sort by sascore\n",
    "result_gen = result_gen.sort_values(by='sascore', ascending=True)\n",
    "result_gen = result_gen.dropna()\n",
    "result_gen = result_gen.reset_index(drop=True)\n",
    "result_gen"
   ]
  },
  {
   "cell_type": "code",
   "execution_count": null,
   "metadata": {},
   "outputs": [],
   "source": [
    "# plot distribution\n",
    "plt.figure(figsize=(8, 5), dpi=300)\n",
    "sns.histplot(list(result_gen['sascore']), bins=range(0, 11, 1), color=color_1)\n",
    "plt.xlabel('SAScore')\n",
    "plt.ylabel('Frequency')\n",
    "plt.title('SAScore Distribution')\n",
    "sns.despine()\n",
    "plt.show()"
   ]
  },
  {
   "cell_type": "markdown",
   "metadata": {},
   "source": [
    "# Filtering"
   ]
  },
  {
   "cell_type": "code",
   "execution_count": null,
   "metadata": {},
   "outputs": [],
   "source": [
    "from rdkit import DataStructs\n",
    "def get_fingerprint_dictionary(smiles_list):\n",
    "    result = {}\n",
    "    for smiles in tqdm(smiles_list):\n",
    "        mol = Chem.MolFromSmiles(smiles)\n",
    "        if mol is not None:\n",
    "            fp = AllChem.GetMorganFingerprintAsBitVect(mol, radius=2, nBits=2048, useChirality=False)\n",
    "            result[smiles] = fp\n",
    "    return result\n",
    "\n",
    "def similarity(a, b, radius=2, dictionary=None):\n",
    "    if a is None or b is None: \n",
    "        return 0.0\n",
    "    if dictionary and a in dictionary and b in dictionary:\n",
    "        fp1 = dictionary[a]\n",
    "        fp2 = dictionary[b]\n",
    "    else:\n",
    "        amol = Chem.MolFromSmiles(a)\n",
    "        bmol = Chem.MolFromSmiles(b)\n",
    "        if amol is None or bmol is None:\n",
    "            # print(a, b)\n",
    "            return 0.0\n",
    "        fp1 = AllChem.GetMorganFingerprintAsBitVect(amol, radius=radius, nBits=2048, useChirality=False)\n",
    "        fp2 = AllChem.GetMorganFingerprintAsBitVect(bmol, radius=radius, nBits=2048, useChirality=False)\n",
    "    return DataStructs.TanimotoSimilarity(fp1, fp2) \n",
    "\n",
    "def similarity_to_nearest_neighbor(smiles_list, ref_list, radius=2, dictionary=None):\n",
    "    similarity_list = []\n",
    "    for i, a in enumerate(smiles_list):\n",
    "        max_similarity = 0\n",
    "        for b in ref_list:\n",
    "            sim = similarity(a, b, radius=radius, dictionary=dictionary)\n",
    "            if sim > max_similarity:\n",
    "                max_similarity = sim\n",
    "        similarity_list.append(max_similarity)\n",
    "    return np.mean(similarity_list), np.std(similarity_list)\n",
    "\n",
    "# get fingerprint dictionary from dataset\n",
    "training_smiles = [row['smiles_catalyst'] for idx, row in df_dataset.iterrows()]\n",
    "fingerprint_dict = get_fingerprint_dictionary(training_smiles)"
   ]
  },
  {
   "cell_type": "code",
   "execution_count": null,
   "metadata": {},
   "outputs": [],
   "source": [
    "filter_index = []\n",
    "not_pass_sim = []\n",
    "for i, row in result_gen.iterrows():\n",
    "    mol_catalyst = Chem.MolFromSmiles(row['smiles'])\n",
    "    flag = True\n",
    "\n",
    "    if 'sm' in file:\n",
    "        # check number of fragments\n",
    "        rs = Chem.GetMolFrags(mol_catalyst, asMols=True)\n",
    "        if len(rs) != 4:\n",
    "            flag = False\n",
    "            continue\n",
    "\n",
    "    if 'l_sm' in file:\n",
    "        # check number of fragments\n",
    "        rs = Chem.GetMolFrags(mol_catalyst, asMols=True)\n",
    "        if len(rs) != 1:\n",
    "            flag = False\n",
    "            continue\n",
    "        # check atom P or atom N in molecule\n",
    "        has_P = False\n",
    "        has_N = False\n",
    "        for atom in mol_catalyst.GetAtoms():\n",
    "            if atom.GetSymbol() == 'P':\n",
    "                has_P = True\n",
    "            if atom.GetSymbol() == 'N':\n",
    "                has_N = True\n",
    "        if not has_P and not has_N:\n",
    "            flag = False\n",
    "            continue\n",
    "        # check neightbor of atom P is exactly 3\n",
    "        if has_P:\n",
    "            for atom in mol_catalyst.GetAtoms():\n",
    "                if atom.GetSymbol() == 'P':\n",
    "                    if atom.GetDegree() != 3:\n",
    "                        flag = False\n",
    "                        break\n",
    "        # check ring of 3 not contain atom P\n",
    "        if has_P:\n",
    "            for atom in mol_catalyst.GetAtoms():\n",
    "                if atom.GetSymbol() == 'P':\n",
    "                    if atom.IsInRingSize(3):\n",
    "                        flag = False\n",
    "                        break\n",
    "        # check O have three neighbor\n",
    "        for atom in mol_catalyst.GetAtoms():\n",
    "            if atom.GetSymbol() == 'O':\n",
    "                if atom.GetDegree() > 2:\n",
    "                    flag = False\n",
    "                    break\n",
    "        # sim = similarity_to_nearest_neighbor([row['smiles']], training_smiles, dictionary=fingerprint_dict)\n",
    "        # if sim[0] < 0.3:\n",
    "        #     not_pass_sim.append(mol_catalyst)\n",
    "        #     flag = False\n",
    "        # check contain 3-member ring\n",
    "        ssr = Chem.GetSymmSSSR(mol_catalyst)\n",
    "        has_3member_ring = any(len(ring) < 5 for ring in ssr)\n",
    "        if has_3member_ring:\n",
    "            flag = False\n",
    "            # objective = 0\n",
    "\n",
    "    if 'ps' in file:\n",
    "        # check number of fragments\n",
    "        rs = Chem.GetMolFrags(mol_catalyst, asMols=True)\n",
    "        if len(rs) != 1:\n",
    "            flag = False\n",
    "            continue\n",
    "\n",
    "    if flag:\n",
    "        filter_index.append(i)\n",
    "\n",
    "result_gen_filtered = result_gen.iloc[filter_index]\n",
    "result_gen_filtered = result_gen_filtered.reset_index(drop=True)\n",
    "print(\"result_gen_filtered: \", len(result_gen_filtered))\n"
   ]
  },
  {
   "cell_type": "code",
   "execution_count": null,
   "metadata": {},
   "outputs": [],
   "source": [
    "# molecules = [mol for mol in not_pass_sim[:20]]\n",
    "# display_molecule(molecules, title=None, texts=None)"
   ]
  },
  {
   "cell_type": "code",
   "execution_count": null,
   "metadata": {},
   "outputs": [],
   "source": [
    "result_gen_filtered"
   ]
  },
  {
   "cell_type": "code",
   "execution_count": null,
   "metadata": {},
   "outputs": [],
   "source": [
    "# plot yield compare\n",
    "plt.figure(figsize=(8, 5), dpi=300)\n",
    "sns.histplot(list(result_gen['avg']), bins=range(0, 101, 5), color=color_1)\n",
    "sns.histplot(list(result_gen_filtered['avg']), bins=range(0, 101, 5), color=color_2)\n",
    "plt.xlabel('Predicted')\n",
    "plt.ylabel('Number of molecules')\n",
    "plt.title('Predicted Target Distribution')\n",
    "plt.legend(['Generated catalyst', 'Filtered generated catalyst'])\n",
    "sns.despine()\n",
    "plt.show()"
   ]
  },
  {
   "cell_type": "code",
   "execution_count": null,
   "metadata": {},
   "outputs": [],
   "source": [
    "# percent filtering\n",
    "print(\"all\", len(result_gen))\n",
    "print(\"filtered\", len(result_gen_filtered))\n",
    "print(\"percent filtering: \", len(result_gen_filtered)/len(result_gen)*100)"
   ]
  },
  {
   "cell_type": "code",
   "execution_count": null,
   "metadata": {},
   "outputs": [],
   "source": [
    "result_gen_filtered = result_gen_filtered.sort_values(by='avg', ascending=False)\n",
    "result_gen_filtered = result_gen_filtered.reset_index(drop=True)\n",
    "result_rand_sample_filtered = result_gen_filtered[:20]\n",
    "\n",
    "molecules = [smiles_to_mol(smiles, with_atom_index=False) for smiles in result_rand_sample_filtered['smiles']]\n",
    "# texts = [f'{row[\"avg\"]:.2f} ± {row[\"std\"]:.2f}' for idx, row in result_rand_sample_filtered.iterrows()]\n",
    "texts = [f'{row[\"avg\"]:.2f}' for idx, row in result_rand_sample_filtered.iterrows()]\n",
    "title = range(1, len(molecules)+1)\n",
    "display_molecule(molecules, title=None, texts=texts)"
   ]
  },
  {
   "cell_type": "code",
   "execution_count": null,
   "metadata": {},
   "outputs": [],
   "source": [
    "# only not in training dataset\n",
    "smiles_dataset = [Chem.CanonSmiles(smiles, useChiral=False) for smiles in training_smiles]\n",
    "\n",
    "novel_molecules_index = []\n",
    "for i, row in result_gen_filtered.iterrows():\n",
    "    smiles_cat = Chem.CanonSmiles(row['smiles'], useChiral=False)\n",
    "    if smiles_cat not in smiles_dataset:\n",
    "        novel_molecules_index.append(i)\n",
    "\n",
    "result_gen_filtered_novel = result_gen_filtered.iloc[novel_molecules_index]\n",
    "result_gen_filtered_novel = result_gen_filtered_novel.reset_index(drop=True)\n",
    "print(\"result_gen_filtered_novel: \", len(result_gen_filtered_novel))"
   ]
  },
  {
   "cell_type": "code",
   "execution_count": null,
   "metadata": {},
   "outputs": [],
   "source": [
    "result_gen_filtered_novel = result_gen_filtered_novel.sort_values(by='avg', ascending=False)\n",
    "result_gen_filtered_novel = result_gen_filtered_novel.reset_index(drop=True)\n",
    "result_rand_sample_filtered_novel = result_gen_filtered_novel[:20]\n",
    "\n",
    "molecules = [smiles_to_mol(smiles, with_atom_index=False) for smiles in result_rand_sample_filtered_novel['smiles']]\n",
    "# texts = [f'{row[\"avg\"]:.2f} ± {row[\"std\"]:.2f}' for idx, row in result_rand_sample_filtered.iterrows()]\n",
    "texts = [f'{row[\"avg\"]:.2f}' for idx, row in result_rand_sample_filtered_novel.iterrows()]\n",
    "title = range(1, len(molecules)+1)\n",
    "display_molecule(molecules, title=None, texts=texts)"
   ]
  },
  {
   "cell_type": "code",
   "execution_count": null,
   "metadata": {},
   "outputs": [],
   "source": [
    "molecules = [smiles_to_mol(smiles, with_atom_index=False) for smiles in result_gen_filtered_novel[result_gen_filtered_novel['sascore']>=5.5][:20]['smiles']]\n",
    "display_molecule(molecules, title=None, texts=None)"
   ]
  },
  {
   "cell_type": "code",
   "execution_count": null,
   "metadata": {},
   "outputs": [],
   "source": [
    "# percent filtering\n",
    "print(\"all\", len(result_gen))\n",
    "print(\"filtered_novel\", len(result_gen_filtered_novel))\n",
    "print(\"percent filtered_novel: \", len(result_gen_filtered_novel)/len(result_gen)*100)"
   ]
  },
  {
   "cell_type": "code",
   "execution_count": null,
   "metadata": {},
   "outputs": [],
   "source": [
    "result_gen_filtered_novel['MolImage'] = result_gen_filtered_novel['smiles'].apply(Chem.MolFromSmiles)\n",
    "result_gen_filtered_novel_columns = result_gen_filtered_novel[['smiles', 'avg', 'MolImage']]\n",
    "result_gen_filtered_novel_columns.rename(columns={'smiles': 'SMILES', 'avg': 'Predicted'}, inplace=True)\n",
    "result_gen_filtered_novel_columns = result_gen_filtered_novel_columns.reset_index()\n",
    "\n",
    "# # save to excel with molecule image \n",
    "from rdkit.Chem import PandasTools\n",
    "PandasTools.SaveXlsxFromFrame(result_gen_filtered_novel_columns, 'dataset/'+file+'/'+folder+'/'+df_name+'_filtered.xlsx', molCol='MolImage')"
   ]
  },
  {
   "cell_type": "code",
   "execution_count": null,
   "metadata": {},
   "outputs": [],
   "source": [
    "result_gen_filtered_novel_columns"
   ]
  },
  {
   "cell_type": "code",
   "execution_count": null,
   "metadata": {},
   "outputs": [],
   "source": [
    "# only not in training and test dataset\n",
    "smiles_dataset_test = [Chem.CanonSmiles(smiles, useChiral=False) for smiles in df_dataset_test['smiles_catalyst'].values]\n",
    "df_dataset_test['smiles_canon'] = smiles_dataset_test\n",
    "\n",
    "novel_molecules_index = []\n",
    "for i, row in result_gen_filtered_novel.iterrows():\n",
    "    smiles_cat = Chem.CanonSmiles(row['smiles'], useChiral=False)\n",
    "    if smiles_cat not in smiles_dataset_test:\n",
    "        novel_molecules_index.append(i)\n",
    "    else:\n",
    "        print(\"in dataset test: \", smiles_cat)\n",
    "        testing_output = df_dataset_test[df_dataset_test['smiles_canon'] == smiles_cat]['y'].values[0]\n",
    "        display_molecule([Chem.MolFromSmiles(smiles_cat), Chem.MolFromSmiles(smiles_cat)], title=['testing', 'generated'], texts=[testing_output, f\"{row['avg']:.2f}\"])\n",
    "\n",
    "result_gen_filtered_novel_test = result_gen_filtered_novel.iloc[novel_molecules_index]\n",
    "result_gen_filtered_novel_test = result_gen_filtered_novel_test.reset_index(drop=True)\n",
    "print(\"result_con_lat_filtered_novel_test: \", len(result_gen_filtered_novel_test))"
   ]
  },
  {
   "cell_type": "code",
   "execution_count": null,
   "metadata": {},
   "outputs": [],
   "source": []
  }
 ],
 "metadata": {
  "kernelspec": {
   "display_name": "multimolrep38",
   "language": "python",
   "name": "python3"
  },
  "language_info": {
   "codemirror_mode": {
    "name": "ipython",
    "version": 3
   },
   "file_extension": ".py",
   "mimetype": "text/x-python",
   "name": "python",
   "nbconvert_exporter": "python",
   "pygments_lexer": "ipython3",
   "version": "3.8.18"
  }
 },
 "nbformat": 4,
 "nbformat_minor": 2
}
